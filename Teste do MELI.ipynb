{
 "cells": [
  {
   "cell_type": "code",
   "execution_count": 25,
   "id": "1036779a",
   "metadata": {},
   "outputs": [
    {
     "name": "stdout",
     "output_type": "stream",
     "text": [
      "Digite um número INTEIRO de 0 até 9\n",
      "0\n",
      "soma 0\n",
      "[0, 0, 0, 0]\n"
     ]
    }
   ],
   "source": [
    "print(\"Digite um número INTEIRO de 0 até 9\")\n",
    "maxDigit=input()\n",
    "intmaxDigit=int(maxDigit)\n",
    "\n",
    "numero=[\"0\",\"0\",\"0\",\"0\"]\n",
    "\n",
    "numero[3]=intmaxDigit\n",
    "numero[2]=intmaxDigit\n",
    "\n",
    "soma=numero[3] + numero[2]\n",
    "\n",
    "for x in range (0, intmaxDigit+1):\n",
    "    if (soma+x<22):\n",
    "        numero[1]=x\n",
    "        rest=soma+x\n",
    "    else:\n",
    "        break\n",
    "\n",
    "for z in range (0, intmaxDigit+1):\n",
    "    if (rest+z<22):\n",
    "        numero[0]=z\n",
    "        soma=rest+z\n",
    "    else:\n",
    "        break\n",
    "\n",
    "print(\"soma\", soma)        \n",
    "print(numero)\n"
   ]
  },
  {
   "cell_type": "code",
   "execution_count": null,
   "id": "319eb190",
   "metadata": {},
   "outputs": [],
   "source": []
  },
  {
   "cell_type": "code",
   "execution_count": null,
   "id": "04203a6f",
   "metadata": {},
   "outputs": [],
   "source": []
  },
  {
   "cell_type": "code",
   "execution_count": 1,
   "id": "50c57d8b",
   "metadata": {},
   "outputs": [
    {
     "name": "stdout",
     "output_type": "stream",
     "text": [
      "Digite a porra do número agora:\n"
     ]
    }
   ],
   "source": []
  },
  {
   "cell_type": "code",
   "execution_count": null,
   "id": "ae90a256",
   "metadata": {},
   "outputs": [],
   "source": []
  },
  {
   "cell_type": "code",
   "execution_count": null,
   "id": "8bce3021",
   "metadata": {},
   "outputs": [],
   "source": []
  },
  {
   "cell_type": "code",
   "execution_count": null,
   "id": "2aa86791",
   "metadata": {},
   "outputs": [],
   "source": []
  }
 ],
 "metadata": {
  "kernelspec": {
   "display_name": "Python 3",
   "language": "python",
   "name": "python3"
  },
  "language_info": {
   "codemirror_mode": {
    "name": "ipython",
    "version": 3
   },
   "file_extension": ".py",
   "mimetype": "text/x-python",
   "name": "python",
   "nbconvert_exporter": "python",
   "pygments_lexer": "ipython3",
   "version": "3.8.8"
  }
 },
 "nbformat": 4,
 "nbformat_minor": 5
}
